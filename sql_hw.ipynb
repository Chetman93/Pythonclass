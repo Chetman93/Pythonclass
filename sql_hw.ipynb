{
  "nbformat": 4,
  "nbformat_minor": 0,
  "metadata": {
    "colab": {
      "provenance": []
    },
    "kernelspec": {
      "name": "python3",
      "display_name": "Python 3"
    },
    "language_info": {
      "name": "python"
    }
  },
  "cells": [
    {
      "cell_type": "code",
      "execution_count": null,
      "metadata": {
        "colab": {
          "base_uri": "https://localhost:8080/"
        },
        "id": "c0T3Kiy9z2iB",
        "outputId": "848efb6d-af2e-4242-9779-0ca006fdb0d8"
      },
      "outputs": [
        {
          "output_type": "execute_result",
          "data": {
            "text/plain": [
              "<sqlite3.Cursor at 0x7f32cc216e30>"
            ]
          },
          "metadata": {},
          "execution_count": 47
        }
      ],
      "source": [
        "import sqlite3\n",
        "con = sqlite3.connect(\"car.db\")\n",
        "cur = con.cursor()\n",
        "\n",
        "\n",
        "query = \"\"\"\n",
        "Create Table cars( release_year INT NOT NULL, name, model, type, color)\n",
        "\"\"\"\n",
        "cur.execute(query)"
      ]
    },
    {
      "cell_type": "code",
      "source": [
        "insert_query = \"\"\"\n",
        "insert into cars(release_year, name, model, type, color)\n",
        "values\n",
        "(2014, 'Honda', 'city', 'Sedan', 'Grey'),\n",
        "(2017, 'Ford', 'endevour', 'Suv', 'Red'),\n",
        "(2008, 'TATA','nano', 'Micro', 'yellow')\n",
        "\"\"\"\n"
      ],
      "metadata": {
        "id": "h0pXJhkc48CX"
      },
      "execution_count": null,
      "outputs": []
    },
    {
      "cell_type": "code",
      "source": [
        "cur.execute(insert_query)"
      ],
      "metadata": {
        "colab": {
          "base_uri": "https://localhost:8080/"
        },
        "id": "HIJMyRif87Ei",
        "outputId": "51d75841-b508-48b8-e3a2-1d5ca2c7f623"
      },
      "execution_count": null,
      "outputs": [
        {
          "output_type": "execute_result",
          "data": {
            "text/plain": [
              "<sqlite3.Cursor at 0x7f32cc216e30>"
            ]
          },
          "metadata": {},
          "execution_count": 49
        }
      ]
    },
    {
      "cell_type": "code",
      "source": [
        "read_query = \"\"\"\n",
        "select * from cars\n",
        "\"\"\""
      ],
      "metadata": {
        "id": "WQSGqVURCHSk"
      },
      "execution_count": null,
      "outputs": []
    },
    {
      "cell_type": "code",
      "source": [
        "cur.execute(read_query).fetchall()"
      ],
      "metadata": {
        "colab": {
          "base_uri": "https://localhost:8080/"
        },
        "id": "OVvFho_9CXI1",
        "outputId": "ca86cea6-b05d-491a-d2d7-69273857206b"
      },
      "execution_count": null,
      "outputs": [
        {
          "output_type": "execute_result",
          "data": {
            "text/plain": [
              "[(2014, 'Honda', 'city', 'Sedan', 'Grey'),\n",
              " (2017, 'Ford', 'endevour', 'Suv', 'Red'),\n",
              " (2008, 'TATA', 'nano', 'Micro', 'yellow')]"
            ]
          },
          "metadata": {},
          "execution_count": 37
        }
      ]
    },
    {
      "cell_type": "code",
      "source": [
        "update_query = \"\"\"\n",
        "update cars\n",
        "set name = 'Skoda'\n",
        "where release_year = 2008\n",
        "\"\"\""
      ],
      "metadata": {
        "id": "JBq6YGjrAVI_"
      },
      "execution_count": null,
      "outputs": []
    },
    {
      "cell_type": "code",
      "source": [
        "cur.execute(update_query)"
      ],
      "metadata": {
        "colab": {
          "base_uri": "https://localhost:8080/"
        },
        "id": "OLpSuIpqCvmy",
        "outputId": "370979da-de0f-4d3a-dc4c-b7d2ea17d436"
      },
      "execution_count": null,
      "outputs": [
        {
          "output_type": "execute_result",
          "data": {
            "text/plain": [
              "<sqlite3.Cursor at 0x7f32cc287500>"
            ]
          },
          "metadata": {},
          "execution_count": 39
        }
      ]
    },
    {
      "cell_type": "code",
      "source": [
        "cur.execute(\"select *from cars\").fetchall()"
      ],
      "metadata": {
        "colab": {
          "base_uri": "https://localhost:8080/"
        },
        "id": "_hTI2n6LC0pz",
        "outputId": "ae97580b-d82b-4129-f8ef-c1aae2e9e1b6"
      },
      "execution_count": null,
      "outputs": [
        {
          "output_type": "execute_result",
          "data": {
            "text/plain": [
              "[(2014, 'Honda', 'city', 'Sedan', 'Grey'),\n",
              " (2017, 'Ford', 'endevour', 'Suv', 'Red'),\n",
              " (2008, 'Skoda', 'nano', 'Micro', 'yellow')]"
            ]
          },
          "metadata": {},
          "execution_count": 41
        }
      ]
    },
    {
      "cell_type": "code",
      "source": [
        "delete_query = \"select *from cars where release_year = 2008\"\n"
      ],
      "metadata": {
        "id": "EXx6ySB-DPbM"
      },
      "execution_count": null,
      "outputs": []
    },
    {
      "cell_type": "code",
      "source": [
        "cur.execute(delete_query)"
      ],
      "metadata": {
        "colab": {
          "base_uri": "https://localhost:8080/"
        },
        "id": "u7m0kBHcD-Zi",
        "outputId": "85d861f5-15de-45f3-b9b1-e8a9523d99c5"
      },
      "execution_count": null,
      "outputs": [
        {
          "output_type": "execute_result",
          "data": {
            "text/plain": [
              "<sqlite3.Cursor at 0x7f32cc287500>"
            ]
          },
          "metadata": {},
          "execution_count": 43
        }
      ]
    },
    {
      "cell_type": "code",
      "source": [
        "cur.execute(\"select *from cars\").fetchall()"
      ],
      "metadata": {
        "colab": {
          "base_uri": "https://localhost:8080/"
        },
        "id": "YyGKZ_pyEC5e",
        "outputId": "c5e284d7-38be-47cf-a1bc-94c3b759f312"
      },
      "execution_count": null,
      "outputs": [
        {
          "output_type": "execute_result",
          "data": {
            "text/plain": [
              "[(2014, 'Honda', 'city', 'Sedan', 'Grey'),\n",
              " (2017, 'Ford', 'endevour', 'Suv', 'Red'),\n",
              " (2008, 'Skoda', 'nano', 'Micro', 'yellow')]"
            ]
          },
          "metadata": {},
          "execution_count": 45
        }
      ]
    },
    {
      "cell_type": "code",
      "source": [],
      "metadata": {
        "id": "YxzglkM8EPtl"
      },
      "execution_count": null,
      "outputs": []
    }
  ]
}